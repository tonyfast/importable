{
 "cells": [
  {
   "cell_type": "markdown",
   "metadata": {},
   "source": [
    "😵 simple __import__s for notebooks and markdown files.  All code elements are executed in order and imported into sys models."
   ]
  },
  {
   "cell_type": "code",
   "execution_count": 1,
   "metadata": {
    "collapsed": true
   },
   "outputs": [],
   "source": [
    "        __all__ = 'finder',\n",
    "        meta_paths = []"
   ]
  },
  {
   "cell_type": "code",
   "execution_count": 2,
   "metadata": {
    "collapsed": true
   },
   "outputs": [],
   "source": [
    "        from importlib.util import spec_from_loader\n",
    "        from importlib.machinery import SourceFileLoader, FileFinder\n",
    "        from nbconvert.exporters.base import export, get_exporter\n",
    "        import sys\n",
    "        from os.path import sep, curdir, extsep, exists\n",
    "        from nbconvert import get_exporter"
   ]
  },
  {
   "cell_type": "code",
   "execution_count": 3,
   "metadata": {
    "collapsed": true
   },
   "outputs": [],
   "source": [
    "        class Importable(object):\n",
    "            def find_spec(self, name, paths, target=None):\n",
    "                for ext in type(self.ext) is str and [self.ext] or self.ext:\n",
    "                    for path in paths or [curdir]:\n",
    "                        path = extsep.join([sep.join([path, name.split('.')[-1]]), ext])\n",
    "                        if exists(path):\n",
    "                            return spec_from_loader(name, type(self)(name, path))\n",
    "                return None"
   ]
  },
  {
   "cell_type": "code",
   "execution_count": 4,
   "metadata": {
    "collapsed": true
   },
   "outputs": [],
   "source": [
    "        exporter = get_exporter('python')()"
   ]
  },
  {
   "cell_type": "code",
   "execution_count": 5,
   "metadata": {
    "collapsed": true
   },
   "outputs": [],
   "source": [
    "        def add_finder(finder):\n",
    "            sys.meta_path.append(finder(\"\", \"\"))\n",
    "            meta_paths.append(sys.meta_path[-1])\n",
    "            return finder"
   ]
  },
  {
   "cell_type": "code",
   "execution_count": 6,
   "metadata": {},
   "outputs": [],
   "source": [
    "        def finder(ext, bases=[SourceFileLoader], **kwargs):\n",
    "            \"\"\"A decorator to create a new ext loader by defining the get_code method.\n",
    "            \"\"\"\n",
    "            def importer(func):\n",
    "                return add_finder(type(\n",
    "                    func.__name__, tuple([Importable] + bases), \n",
    "                    kwargs.update(get_code=func, ext=ext) or kwargs\n",
    "                ))\n",
    "            return importer"
   ]
  },
  {
   "cell_type": "code",
   "execution_count": 7,
   "metadata": {
    "collapsed": true
   },
   "outputs": [],
   "source": [
    "        def Ipynb(self, path):\n",
    "            return exporter.from_filename(self.path)[0].encode('utf-8')"
   ]
  },
  {
   "cell_type": "markdown",
   "metadata": {},
   "source": [
    "As proof-of-concept, create a finder for ipynb files."
   ]
  },
  {
   "cell_type": "code",
   "execution_count": 8,
   "metadata": {
    "collapsed": true
   },
   "outputs": [],
   "source": [
    "        def load_ipython_extension(ip=None):\n",
    "            finder('ipynb')(Ipynb)\n",
    "            sys.path_importer_cache.clear()"
   ]
  },
  {
   "cell_type": "code",
   "execution_count": 9,
   "metadata": {},
   "outputs": [],
   "source": [
    "        load_ipython_extension()"
   ]
  },
  {
   "cell_type": "code",
   "execution_count": 10,
   "metadata": {},
   "outputs": [
    {
     "data": {
      "text/plain": [
       "'./importable.ipynb'"
      ]
     },
     "execution_count": 10,
     "metadata": {},
     "output_type": "execute_result"
    }
   ],
   "source": [
    "        import importable\n",
    "        importable.__file__"
   ]
  },
  {
   "cell_type": "markdown",
   "metadata": {},
   "source": [
    "Then use that finder to load subsequent notebooks."
   ]
  },
  {
   "cell_type": "code",
   "execution_count": 11,
   "metadata": {
    "collapsed": true
   },
   "outputs": [],
   "source": [
    "        def unload_ipython_extension(ip=None):\n",
    "            for _ in sys.meta_path:\n",
    "                if _ in meta_paths: sys.meta_path.pop(sys.meta_path.index(_))\n",
    "            for _ in sys.path_hooks:\n",
    "                if _ in path_hooks: sys.path_hooks.pop(sys.path_hooks.index(_))\n",
    "            sys.path_importer_cache.clear()"
   ]
  },
  {
   "cell_type": "code",
   "execution_count": 12,
   "metadata": {},
   "outputs": [],
   "source": [
    "        if False and __name__ == '__main__': \n",
    "            !jupyter nbconvert --to script importable.ipynb"
   ]
  }
 ],
 "metadata": {
  "artifacts": [
   ".py"
  ],
  "kernelspec": {
   "display_name": "Python 3",
   "language": "python",
   "name": "python3"
  },
  "language_info": {
   "codemirror_mode": {
    "name": "ipython",
    "version": 3
   },
   "file_extension": ".py",
   "mimetype": "text/x-python",
   "name": "python",
   "nbconvert_exporter": "python",
   "pygments_lexer": "ipython3",
   "version": "3.5.3"
  },
  "nbconvert": {
   "script": {}
  }
 },
 "nbformat": 4,
 "nbformat_minor": 2
}
