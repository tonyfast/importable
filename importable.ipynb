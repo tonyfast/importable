{
 "cells": [
  {
   "cell_type": "markdown",
   "metadata": {},
   "source": [
    "# importable \n",
    "\n",
    "`pip install git+`<a href=\"https://github.com/tonyfast/importable\"><code>https://github.com/tonyfast/importable</code></a>\n",
    "\n",
    "> __importable__ is an IPython magic that permits python imports from notebook sources [See the source.](https://github.com/tonyfast/importable/blob/master/importable.ipynb)"
   ]
  },
  {
   "cell_type": "code",
   "execution_count": 13,
   "metadata": {
    "collapsed": true
   },
   "outputs": [],
   "source": [
    "    from __future__ import print_function\n",
    "    __all__ = 'finder',\n",
    "    meta_paths = []"
   ]
  },
  {
   "cell_type": "code",
   "execution_count": 14,
   "metadata": {
    "collapsed": true
   },
   "outputs": [],
   "source": [
    "    try:\n",
    "        # Python 3 imports\n",
    "        from importlib.util import spec_from_loader\n",
    "        from importlib.machinery import SourceFileLoader as Base\n",
    "    except:\n",
    "        # Python 2 imports\n",
    "        from imputil import _FilesystemImporter as Base\n",
    "\n",
    "    from nbconvert.exporters.base import export, get_exporter\n",
    "    import sys, imp\n",
    "    from os.path import sep, curdir, extsep, exists\n",
    "    from nbconvert import get_exporter   \n",
    "    PY2 = sys.version_info.major is 2"
   ]
  },
  {
   "cell_type": "code",
   "execution_count": 16,
   "metadata": {
    "collapsed": true
   },
   "outputs": [],
   "source": [
    "    class Importable(Base, object):\n",
    "        \"\"\"Base class for Python 2 or Python 3 imports.  Python 2 imports are not reloadable.\"\"\"\n",
    "        def find_spec(self, name, paths, target=None):\n",
    "            # () -> ModuleSpec\n",
    "            \"\"\"Python 3 finder uses the result from the Python 2 finder.\"\"\"\n",
    "            loader =  self.find_module(name, paths, target)\n",
    "            return loader and spec_from_loader(name, loader)\n",
    "\n",
    "        def find_module(self, name, paths, target=None):\n",
    "            # () -> Importable\n",
    "            \"\"\"Python 2 finder\"\"\"\n",
    "            for ext in type(self.ext) is str and [self.ext] or self.ext:\n",
    "                for path in paths or [curdir]:\n",
    "                    path = extsep.join([sep.join([path, name.split('.')[-1]]), ext])\n",
    "                    if exists(path):\n",
    "                        return type(self)(name, path)\n",
    "            return None\n",
    "\n",
    "        def get_code(self, path):\n",
    "            \"\"\"Python 3 get_code from that returns a code object.\"\"\"\n",
    "            return compile(self.func(path), self.path, 'exec')"
   ]
  },
  {
   "cell_type": "code",
   "execution_count": 4,
   "metadata": {
    "collapsed": true
   },
   "outputs": [],
   "source": [
    "    class Patched(Importable):\n",
    "        \"\"\"A patch for python 2\"\"\"\n",
    "        def __init__(self, name=None, path=None):\n",
    "            self.name, self.path = name, path \n",
    "\n",
    "        def load_module(self, name):\n",
    "            \"\"\"Python 2 loader.\"\"\"\n",
    "            return self.import_top(name)\n",
    "\n",
    "        def get_code(self, parent, name, fqname):\n",
    "            \"\"\"Python 2 get_code function shim.\"\"\"\n",
    "            return 0, super(Patched, self).get_code(self.path), dict(__file__=self.path, __importer__=self)"
   ]
  },
  {
   "cell_type": "code",
   "execution_count": 6,
   "metadata": {
    "collapsed": true
   },
   "outputs": [],
   "source": [
    "    def add_finder(finder):\n",
    "        \"\"\"Add a MetaFinder to the import manager.\"\"\"\n",
    "        sys.meta_path.append(finder(None, None)) or meta_paths.append(sys.meta_path[-1])\n",
    "        return finder"
   ]
  },
  {
   "cell_type": "markdown",
   "metadata": {},
   "source": [
    "> `finder` all custom extensions."
   ]
  },
  {
   "cell_type": "code",
   "execution_count": 7,
   "metadata": {
    "collapsed": true
   },
   "outputs": [],
   "source": [
    "    def finder(ext, bases=[], **kwargs):\n",
    "        \"\"\"A decorator to create a new ext loader by defining a custom func method.\"\"\"            \n",
    "        def importer(func):\n",
    "            return add_finder(type(\n",
    "                func.__name__, (PY2 and Patched or Importable,), kwargs.update(func=func, ext=ext) or kwargs))\n",
    "        return importer"
   ]
  },
  {
   "cell_type": "markdown",
   "metadata": {},
   "source": [
    "> `load_ipython_extension` and `unload_ipython_extension` are `ipython` namespaces; they define the `%load_ext` and `%unload_ext`, respectively. "
   ]
  },
  {
   "cell_type": "code",
   "execution_count": 17,
   "metadata": {},
   "outputs": [],
   "source": [
    "    def load_ipython_extension(ip=None):\n",
    "        \"\"\"An Ipython extension to import notebooks.\n",
    "\n",
    "        %load_ext importable\n",
    "        \"\"\"\n",
    "        finder('ipynb')(Ipynb)\n",
    "        sys.path_importer_cache.clear()\n",
    "        \n",
    "    load = load_ipython_extension\n",
    "\n",
    "    def unload_ipython_extension(ip=None):\n",
    "        \"\"\"An Ipython extension to import notebooks.\n",
    "\n",
    "        %load_ext importable\n",
    "        \"\"\"\n",
    "        for _ in sys.meta_path:\n",
    "            if isinstance(_, Importable): \n",
    "                sys.meta_path.pop(sys.meta_path.index(_))\n",
    "        sys.path_importer_cache.clear()\n",
    "    \n",
    "    unload = unload_ipython_extension"
   ]
  },
  {
   "cell_type": "markdown",
   "metadata": {},
   "source": [
    "## Notebook importer"
   ]
  },
  {
   "cell_type": "markdown",
   "metadata": {},
   "source": [
    "> an `nbconvert` exporter to create python code from notebooks."
   ]
  },
  {
   "cell_type": "code",
   "execution_count": 5,
   "metadata": {
    "collapsed": true
   },
   "outputs": [],
   "source": [
    "    exporter = get_exporter('python')()"
   ]
  },
  {
   "cell_type": "code",
   "execution_count": 10,
   "metadata": {
    "collapsed": true
   },
   "outputs": [],
   "source": [
    "    def Ipynb(self, path):\n",
    "        \"\"\"Custom loader from Ipynb files using the nbconvert exporter.\n",
    "\n",
    "        This pattern can be reused to create other finders.\"\"\"\n",
    "        script = exporter.from_filename(self.path)[0]\n",
    "        if PY2:\n",
    "            script = '\\n'.join(script.splitlines()[2:])\n",
    "        return script"
   ]
  },
  {
   "cell_type": "markdown",
   "metadata": {},
   "source": [
    "## Create source"
   ]
  },
  {
   "cell_type": "code",
   "execution_count": 18,
   "metadata": {},
   "outputs": [
    {
     "name": "stdout",
     "output_type": "stream",
     "text": [
      "[NbConvertApp] Converting notebook importable.ipynb to script\r\n",
      "[NbConvertApp] Writing 4129 bytes to importable.py\r\n"
     ]
    }
   ],
   "source": [
    "    if True and __name__ == '__main__': \n",
    "        !jupyter nbconvert --to script importable.ipynb"
   ]
  }
 ],
 "metadata": {
  "artifacts": [
   ".py"
  ],
  "kernelspec": {
   "display_name": "Python 3",
   "language": "python",
   "name": "python3"
  },
  "language_info": {
   "codemirror_mode": {
    "name": "ipython",
    "version": 3
   },
   "file_extension": ".py",
   "mimetype": "text/x-python",
   "name": "python",
   "nbconvert_exporter": "python",
   "pygments_lexer": "ipython3",
   "version": "3.5.3"
  },
  "nbconvert": {
   "script": {}
  }
 },
 "nbformat": 4,
 "nbformat_minor": 2
}
