{
 "cells": [
  {
   "cell_type": "markdown",
   "metadata": {},
   "source": [
    "# importable \n",
    "\n",
    "`pip install git+`<a href=\"https://github.com/tonyfast/importable\"><code>https://github.com/tonyfast/importable</code></a>\n",
    "\n",
    "> __importable__ is an IPython magic that permits python imports from notebook sources [See the source.](https://github.com/tonyfast/importable/blob/master/importable.ipynb)"
   ]
  },
  {
   "cell_type": "code",
   "execution_count": 1,
   "metadata": {
    "collapsed": true
   },
   "outputs": [],
   "source": [
    "    from __future__ import print_function\n",
    "    __all__ = 'finder',\n",
    "    meta_paths = []"
   ]
  },
  {
   "cell_type": "code",
   "execution_count": 2,
   "metadata": {
    "collapsed": true
   },
   "outputs": [],
   "source": [
    "    from types import ModuleType\n",
    "\n",
    "    from importlib import *\n",
    "    from importlib.util import spec_from_loader\n",
    "    from importlib.machinery import SourceFileLoader as Base, ModuleSpec\n",
    "    from nbconvert.exporters.base import export, get_exporter\n",
    "    import sys, imp\n",
    "    from pathlib import Path\n",
    "    from os.path import sep, curdir, extsep, exists\n",
    "    from nbconvert import get_exporter, preprocessors\n",
    "    from nbformat import v4\n",
    "    from nbformat import *\n",
    "    from importlib import reload\n",
    "    PY2 = sys.version_info.major is 2\n",
    "\n",
    "    from inspect import *"
   ]
  },
  {
   "cell_type": "code",
   "execution_count": 3,
   "metadata": {
    "collapsed": true
   },
   "outputs": [],
   "source": [
    "    exporter = get_exporter('python')()"
   ]
  },
  {
   "cell_type": "code",
   "execution_count": 4,
   "metadata": {
    "collapsed": true
   },
   "outputs": [],
   "source": [
    "    class Importable(Base, object):\n",
    "        \"\"\"Base class for Python 2 or Python 3 imports.  Python 2 imports are not reloadable.\"\"\"\n",
    "        def find_spec(self, name, paths, target=None):\n",
    "            loader =  self.find_module(name, paths, target)\n",
    "            return loader and spec_from_loader(name, loader)\n",
    "\n",
    "        def find_module(self, name, paths, target=None):\n",
    "            for ext in type(self.ext) is str and [self.ext] or self.ext:\n",
    "                for path in paths or [curdir]:\n",
    "                    path = Path(name).with_suffix('.'+ext)\n",
    "                    if path.exists(): \n",
    "                        return type(self)(name, str(path))\n",
    "            return None\n",
    "\n",
    "        def create_module(self, spec):\n",
    "            return ModuleType(self.name)\n",
    "        \n",
    "        def exec_module(self, module):\n",
    "            for cell in reads(Path(self.path).read_text(), 4).cells:\n",
    "                try:\n",
    "                    code = self.func(cell)\n",
    "                    exec(code, module.__dict__, module.__dict__)\n",
    "                except:\n",
    "                    raise RuntimeError(code)\n",
    "            return module    \n",
    "        \n",
    "        def get_source(self, path):\n",
    "            return exporter.from_filename(path)[0]"
   ]
  },
  {
   "cell_type": "markdown",
   "metadata": {},
   "source": [
    "> `finder` all custom extensions."
   ]
  },
  {
   "cell_type": "code",
   "execution_count": 5,
   "metadata": {
    "collapsed": true
   },
   "outputs": [],
   "source": [
    "    def finder(ext, bases=[], **kwargs):\n",
    "        def add_finder(finder):\n",
    "            global meta_paths\n",
    "            sys.meta_path.append(finder(None, None)), meta_paths.append(sys.meta_path[-1])\n",
    "            return finder\n",
    "        \n",
    "        def importer(func):\n",
    "            return add_finder(type(\n",
    "                func.__name__, (Importable,), kwargs.update(func=func, ext=ext) or kwargs))\n",
    "        return importer"
   ]
  },
  {
   "cell_type": "markdown",
   "metadata": {},
   "source": [
    "> `load_ipython_extension` and `unload_ipython_extension` are `ipython` namespaces; they define the `%load_ext` and `%unload_ext`, respectively. "
   ]
  },
  {
   "cell_type": "code",
   "execution_count": 6,
   "metadata": {
    "collapsed": true
   },
   "outputs": [],
   "source": [
    "    def load_ipython_extension(ip=None):\n",
    "        \"\"\"An Ipython extension to import notebooks.\n",
    "\n",
    "        %load_ext importable\n",
    "        \"\"\"\n",
    "        finder('ipynb')(Ipynb)\n",
    "        sys.path_importer_cache.clear()\n",
    "        \n",
    "    load = load_ipython_extension\n",
    "\n",
    "    def unload_ipython_extension(ip=None):\n",
    "        \"\"\"An Ipython extension to import notebooks.\n",
    "\n",
    "        %load_ext importable\n",
    "        \"\"\"\n",
    "        for _ in sys.meta_path:\n",
    "            if _ in meta_paths: \n",
    "                sys.meta_path.pop(sys.meta_path.index(_))\n",
    "        sys.path_importer_cache.clear()\n",
    "    \n",
    "    unload = unload_ipython_extension"
   ]
  },
  {
   "cell_type": "markdown",
   "metadata": {},
   "source": [
    "## Notebook importer"
   ]
  },
  {
   "cell_type": "markdown",
   "metadata": {},
   "source": [
    "> an `nbconvert` exporter to create python code from notebooks."
   ]
  },
  {
   "cell_type": "code",
   "execution_count": 7,
   "metadata": {
    "collapsed": true
   },
   "outputs": [],
   "source": [
    "    def Ipynb(self, cell):\n",
    "        return exporter.from_notebook_node(v4.new_notebook(cells=[cell]))[0]"
   ]
  },
  {
   "cell_type": "code",
   "execution_count": null,
   "metadata": {
    "collapsed": true
   },
   "outputs": [],
   "source": [
    "#     load_ipython_extension()"
   ]
  },
  {
   "cell_type": "code",
   "execution_count": null,
   "metadata": {},
   "outputs": [],
   "source": [
    "    if __name__ == '__main__':\n",
    "        !jupyter nbconvert --to python importable.ipynb"
   ]
  }
 ],
 "metadata": {
  "artifacts": [
   ".py"
  ],
  "kernelspec": {
   "display_name": "Python 3",
   "language": "python",
   "name": "python3"
  },
  "language_info": {
   "codemirror_mode": {
    "name": "ipython",
    "version": 3
   },
   "file_extension": ".py",
   "mimetype": "text/x-python",
   "name": "python",
   "nbconvert_exporter": "python",
   "pygments_lexer": "ipython3",
   "version": "3.5.3"
  },
  "nbconvert": {
   "script": {}
  }
 },
 "nbformat": 4,
 "nbformat_minor": 2
}
