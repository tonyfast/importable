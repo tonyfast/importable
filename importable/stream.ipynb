{
 "cells": [
  {
   "cell_type": "code",
   "execution_count": 1,
   "metadata": {
    "collapsed": true
   },
   "outputs": [],
   "source": [
    "        __all__ = 'Yaml', 'Json'\n",
    "        meta_paths, path_hooks = [], []"
   ]
  },
  {
   "cell_type": "code",
   "execution_count": 2,
   "metadata": {
    "collapsed": true
   },
   "outputs": [],
   "source": [
    "        from literacy.preprocessors import Explode, JoinSource\n",
    "        from importlib.util import spec_from_loader\n",
    "        from importlib.machinery import SourceFileLoader, FileFinder\n",
    "        from nbconvert.exporters.base import export, get_exporter\n",
    "        import sys\n",
    "        from os.path import sep, curdir, extsep, exists\n",
    "        from nbconvert import get_exporter\n",
    "        from nbformat.v4 import  new_notebook, new_code_cell"
   ]
  },
  {
   "cell_type": "code",
   "execution_count": 19,
   "metadata": {
    "collapsed": true
   },
   "outputs": [],
   "source": [
    "        def get_stream(module, path):\n",
    "            return \"\"\"with open('{}', 'r') as f:\n",
    "                data=__import__('{}').{}(f)\"\"\".format(path, *module.split('.', 1)).encode('utf-8')"
   ]
  },
  {
   "cell_type": "code",
   "execution_count": 20,
   "metadata": {
    "collapsed": true
   },
   "outputs": [],
   "source": [
    "        def Yaml(self, path):\n",
    "            return get_stream('yaml.safe_load', self.path)"
   ]
  },
  {
   "cell_type": "code",
   "execution_count": 21,
   "metadata": {
    "collapsed": true
   },
   "outputs": [],
   "source": [
    "        def Json(self, path):\n",
    "            return get_stream('json.load', self.path)"
   ]
  },
  {
   "cell_type": "code",
   "execution_count": 22,
   "metadata": {
    "collapsed": true
   },
   "outputs": [],
   "source": [
    "        def Markdown(self, path):\n",
    "            with open(self.path, 'r') as f:    \n",
    "                code = exporter.from_notebook_node(new_notebook(cells=[new_code_cell(\n",
    "                    f.read())]))[0].encode('utf-8')\n",
    "            return code"
   ]
  },
  {
   "cell_type": "code",
   "execution_count": 23,
   "metadata": {
    "collapsed": true
   },
   "outputs": [],
   "source": [
    "        def Pandasify(self, path):\n",
    "            return \"\"\"data=__import__(\"pandas\").read_{ext}(\"{name}\")\"\"\".format(\n",
    "                ext=self.ext, name=self.path)"
   ]
  }
 ],
 "metadata": {
  "artifacts": [
   ".py"
  ],
  "kernelspec": {
   "display_name": "Python 3",
   "language": "python",
   "name": "python3"
  },
  "language_info": {
   "codemirror_mode": {
    "name": "ipython",
    "version": 3
   },
   "file_extension": ".py",
   "mimetype": "text/x-python",
   "name": "python",
   "nbconvert_exporter": "python",
   "pygments_lexer": "ipython3",
   "version": "3.5.3"
  },
  "nbconvert": {
   "script": {}
  }
 },
 "nbformat": 4,
 "nbformat_minor": 2
}
