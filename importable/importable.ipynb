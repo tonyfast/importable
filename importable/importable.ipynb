{
 "cells": [
  {
   "cell_type": "markdown",
   "metadata": {},
   "source": [
    "😵 simple __import__s for notebooks and markdown files.  All code elements are executed in order and imported into sys models."
   ]
  },
  {
   "cell_type": "code",
   "execution_count": null,
   "metadata": {
    "collapsed": true
   },
   "outputs": [],
   "source": [
    "        __all__, meta_paths, path_hooks = [], [], []"
   ]
  },
  {
   "cell_type": "code",
   "execution_count": 2,
   "metadata": {
    "collapsed": true
   },
   "outputs": [],
   "source": [
    "        from literacy.preprocessors import Explode, JoinSource\n",
    "        from importlib.util import spec_from_loader\n",
    "        from importlib.machinery import SourceFileLoader, FileFinder\n",
    "        from nbconvert.exporters.base import export, get_exporter\n",
    "        import sys\n",
    "        from os.path import sep, curdir, extsep, exists\n",
    "        from nbconvert import get_exporter, export\n",
    "        from nbformat.v4 import  new_notebook, new_code_cell"
   ]
  },
  {
   "cell_type": "code",
   "execution_count": 3,
   "metadata": {
    "collapsed": true
   },
   "outputs": [],
   "source": [
    "        class Importable(object):\n",
    "            def __new__(cls, *args, **kwargs):\n",
    "                if not isinstance(cls.Loader, staticmethod):\n",
    "                    cls.Loader = staticmethod(cls.Loader)\n",
    "                return super(Importable, cls).__new__(cls, *args, **kwargs)\n",
    "\n",
    "            def find_spec(self, name, paths, target=None):\n",
    "                for ext in type(self.ext) is str and [self.ext] or self.ext:\n",
    "                    for path in paths or [curdir]:\n",
    "                        path = extsep.join([sep.join([path, name.split('.')[-1]]), ext])\n",
    "                        if exists(path):\n",
    "                            return spec_from_loader(name, self.Loader(name, path))\n",
    "                return None"
   ]
  },
  {
   "cell_type": "code",
   "execution_count": 4,
   "metadata": {
    "collapsed": true
   },
   "outputs": [],
   "source": [
    "        exporter = get_exporter('python')(config={'Exporter': {'preprocessors': [Explode(), JoinSource()]}})"
   ]
  },
  {
   "cell_type": "code",
   "execution_count": 5,
   "metadata": {
    "collapsed": true
   },
   "outputs": [],
   "source": [
    "        class Ipynb(Importable):\n",
    "            ext = 'ipynb'\n",
    "            class Loader(SourceFileLoader):\n",
    "                def get_code(self, nb):\n",
    "                    return exporter.from_filename(self.path)[0].encode('utf-8')"
   ]
  },
  {
   "cell_type": "code",
   "execution_count": 6,
   "metadata": {
    "collapsed": true
   },
   "outputs": [],
   "source": [
    "        class BaseLoader(SourceFileLoader):\n",
    "            def get_code(self, *args):\n",
    "                with open(self.path) as f:\n",
    "                    return f.read()"
   ]
  },
  {
   "cell_type": "code",
   "execution_count": 7,
   "metadata": {
    "collapsed": true
   },
   "outputs": [],
   "source": [
    "        class Md(Importable):\n",
    "            ext = 'md'\n",
    "            class Loader(BaseLoader):\n",
    "                def get_code(self, path):\n",
    "                    return exporter.from_notebook_node(new_notebook(cells=[new_code_cell(\n",
    "                        super().get_code()\n",
    "                    )]))[0].encode('utf-8')"
   ]
  },
  {
   "cell_type": "code",
   "execution_count": 8,
   "metadata": {
    "collapsed": true
   },
   "outputs": [],
   "source": [
    "        class Yaml(Importable):\n",
    "            ext = ['yml', 'yaml']\n",
    "            class Loader(BaseLoader):\n",
    "                def get_code(self, path):\n",
    "                    return \"\"\"data = __import__('yaml').safe_load(\\\"\\\"\\\"{}\\\"\\\"\\\")\n",
    "                    \"\"\".strip().format(super().get_code()).encode('utf-8')"
   ]
  },
  {
   "cell_type": "code",
   "execution_count": 15,
   "metadata": {
    "collapsed": true
   },
   "outputs": [],
   "source": [
    "        def pandas_loader(ext):\n",
    "            class Pandas(Importable):\n",
    "                class Loader(BaseLoader):\n",
    "                    def get_code(self, path):\n",
    "                        return \"\"\"data=__import__(\"pandas\").read_{ext}(\"{name}\")\"\"\".format(\n",
    "                            ext=ext, name=self.path)\n",
    "            return type(ext.capitalize(), (Pandas,), {'ext': ext})"
   ]
  },
  {
   "cell_type": "code",
   "execution_count": 16,
   "metadata": {
    "collapsed": true
   },
   "outputs": [],
   "source": [
    "        def add_finder(finder):\n",
    "            sys.meta_path.append(finder())\n",
    "            meta_paths.append(sys.meta_path[-1])\n",
    "            for ext in [finder.ext] if isinstance(finder.ext, str) else finder.ext:\n",
    "                sys.path_hooks.append(FileFinder.path_hook((finder.Loader, [extsep+ext])))\n",
    "                path_hooks.append(sys.path_hooks[-1])"
   ]
  },
  {
   "cell_type": "code",
   "execution_count": 17,
   "metadata": {
    "collapsed": true
   },
   "outputs": [],
   "source": [
    "        def load_ipython_extension(ip=get_ipython()):\n",
    "            for finder in [Ipynb, Md, Yaml, pandas_loader('csv')]:\n",
    "                add_finder(finder)\n",
    "            sys.path_importer_cache.clear()"
   ]
  },
  {
   "cell_type": "code",
   "execution_count": 18,
   "metadata": {
    "collapsed": true
   },
   "outputs": [],
   "source": [
    "        def unload_ipython_extension(ip=get_ipython()):\n",
    "            for _ in sys.meta_path:\n",
    "                if _ in meta_paths: sys.meta_path.pop(sys.meta_path.index(_))\n",
    "            for _ in sys.path_hooks:\n",
    "                if _ in path_hooks: sys.path_hooks.pop(sys.path_hooks.index(_))\n",
    "            sys.path_importer_cache.clear()"
   ]
  },
  {
   "cell_type": "code",
   "execution_count": 27,
   "metadata": {},
   "outputs": [
    {
     "name": "stdout",
     "output_type": "stream",
     "text": [
      "[NbConvertApp] Converting notebook importable.ipynb to script\r\n",
      "[NbConvertApp] Writing 3456 bytes to importable.py\r\n"
     ]
    }
   ],
   "source": [
    "        if __name__ == '__main__': \n",
    "            !jupyter nbconvert --to script importable.ipynb"
   ]
  },
  {
   "cell_type": "code",
   "execution_count": null,
   "metadata": {
    "collapsed": true
   },
   "outputs": [],
   "source": []
  }
 ],
 "metadata": {
  "artifacts": [
   ".py"
  ],
  "kernelspec": {
   "display_name": "Python 3",
   "language": "python",
   "name": "python3"
  },
  "language_info": {
   "codemirror_mode": {
    "name": "ipython",
    "version": 3
   },
   "file_extension": ".py",
   "mimetype": "text/x-python",
   "name": "python",
   "nbconvert_exporter": "python",
   "pygments_lexer": "ipython3",
   "version": "3.5.3"
  },
  "nbconvert": {
   "script": {}
  }
 },
 "nbformat": 4,
 "nbformat_minor": 2
}
